{
 "cells": [
  {
   "cell_type": "code",
   "execution_count": 5,
   "metadata": {},
   "outputs": [
    {
     "name": "stdout",
     "output_type": "stream",
     "text": [
      "A is small\n"
     ]
    }
   ],
   "source": [
    "# if condition:\n",
    "#     Action Statement\n",
    "\n",
    "a, b = 10, 20\n",
    "\n",
    "if a < b: # 10 < 20 - True\n",
    "    print('A is small')"
   ]
  },
  {
   "cell_type": "code",
   "execution_count": 6,
   "metadata": {},
   "outputs": [],
   "source": [
    "a, b = 10, 20\n",
    "\n",
    "if a > b: # 10 > 20 - False\n",
    "    print('a')"
   ]
  },
  {
   "cell_type": "code",
   "execution_count": 7,
   "metadata": {},
   "outputs": [
    {
     "name": "stdout",
     "output_type": "stream",
     "text": [
      "B is greater\n"
     ]
    }
   ],
   "source": [
    "# if condition:\n",
    "#     Action Statement\n",
    "# else:(Optional)\n",
    "#     Action Statement\n",
    "\n",
    "if a > b: # 10 > 20 - False\n",
    "    print(a) # This is not executed\n",
    "else:\n",
    "    print('B is greater')"
   ]
  },
  {
   "cell_type": "code",
   "execution_count": null,
   "metadata": {},
   "outputs": [],
   "source": [
    "a = 88\n",
    "# if a > 90: \n",
    "#     Excellent\n",
    "# elif a >= 75 and a < 90:\n",
    "#     Very Good\n",
    "# elif a >= 50 and a < 75: \n",
    "#     Good\n",
    "# elif a > 50:\n",
    "#     Need to improve\n",
    "# .\n",
    "# .\n",
    "# .\n",
    "# .\n",
    "# .\n",
    "# else:(Optional)\n",
    "#     Action Statement"
   ]
  },
  {
   "cell_type": "code",
   "execution_count": 8,
   "metadata": {},
   "outputs": [
    {
     "data": {
      "text/plain": [
       "True"
      ]
     },
     "execution_count": 8,
     "metadata": {},
     "output_type": "execute_result"
    }
   ],
   "source": [
    "a = 10\n",
    "a % 2\n",
    "a % 2 == 0 # condition"
   ]
  },
  {
   "cell_type": "code",
   "execution_count": null,
   "metadata": {},
   "outputs": [],
   "source": [
    "a = 10\n",
    "if a % 2 == 0: # 0 == 0\n",
    "    print('Even')"
   ]
  },
  {
   "cell_type": "code",
   "execution_count": null,
   "metadata": {},
   "outputs": [],
   "source": [
    "a = 11\n",
    "a % 2 == 0 # 1 == 0"
   ]
  },
  {
   "cell_type": "code",
   "execution_count": null,
   "metadata": {},
   "outputs": [],
   "source": [
    "a = 11\n",
    "if a % 2 == 0: # False\n",
    "    print('Even') # This will not be executed"
   ]
  },
  {
   "cell_type": "code",
   "execution_count": null,
   "metadata": {},
   "outputs": [],
   "source": [
    "a = 11\n",
    "if a % 2 == 0: # False\n",
    "    print('Even') # This will not be executed\n",
    "else:\n",
    "    print('Odd') # This will be executed"
   ]
  },
  {
   "cell_type": "code",
   "execution_count": null,
   "metadata": {},
   "outputs": [],
   "source": [
    "a = int(input('Enter a value')) #10\n",
    "if a % 2 == 0:\n",
    "    print('Even')\n",
    "else:\n",
    "    print('Odd')\n",
    "# type(a)"
   ]
  },
  {
   "cell_type": "code",
   "execution_count": 9,
   "metadata": {},
   "outputs": [],
   "source": [
    "a = 'string'\n",
    "if a == 'String':\n",
    "    print('It is a string')\n",
    "elif a == 'int':\n",
    "    print('It is an int')\n",
    "elif a == 'float':\n",
    "    print('It is a float')\n",
    "elif a == 'list':\n",
    "    print('It is a list')"
   ]
  },
  {
   "cell_type": "code",
   "execution_count": 10,
   "metadata": {},
   "outputs": [
    {
     "name": "stdout",
     "output_type": "stream",
     "text": [
      "It is not in a required format\n"
     ]
    }
   ],
   "source": [
    "a = 'string'\n",
    "if a == 'String':\n",
    "    print('It is a string')\n",
    "elif a == 'int':\n",
    "    print('It is an int')\n",
    "elif a == 'float':\n",
    "    print('It is a float')\n",
    "elif a == 'list':\n",
    "    print('It is a list')\n",
    "else:\n",
    "    print('It is not in a required format')"
   ]
  },
  {
   "cell_type": "code",
   "execution_count": 11,
   "metadata": {},
   "outputs": [
    {
     "name": "stdout",
     "output_type": "stream",
     "text": [
      "It is an int\n"
     ]
    }
   ],
   "source": [
    "a = 'int'\n",
    "if a == 'string':\n",
    "    print('It is a string')\n",
    "elif a == 'int':\n",
    "    print('It is an int')\n",
    "elif a == 'float':\n",
    "    print('It is a float')\n",
    "elif a == 'list':\n",
    "    print('It is a list')\n",
    "else:\n",
    "    print('It is not in a required format')"
   ]
  },
  {
   "cell_type": "code",
   "execution_count": 12,
   "metadata": {
    "scrolled": false
   },
   "outputs": [
    {
     "name": "stdout",
     "output_type": "stream",
     "text": [
      "False\n",
      "True\n",
      "True\n",
      "False\n",
      "True\n"
     ]
    }
   ],
   "source": [
    "a = [1,2,3,4]\n",
    "print(5 in a) # [1,2,3,4]\n",
    "print(3 in a) # [1,2,3,4]\n",
    "print('x' and 4 in ['x','y',1,2,3,4])\n",
    "print('x' and 5 in ['x','y',1,2,3,4])\n",
    "print('i' in 'string')"
   ]
  },
  {
   "cell_type": "code",
   "execution_count": null,
   "metadata": {},
   "outputs": [],
   "source": []
  }
 ],
 "metadata": {
  "kernelspec": {
   "display_name": "Python 3 (ipykernel)",
   "language": "python",
   "name": "python3"
  },
  "language_info": {
   "codemirror_mode": {
    "name": "ipython",
    "version": 3
   },
   "file_extension": ".py",
   "mimetype": "text/x-python",
   "name": "python",
   "nbconvert_exporter": "python",
   "pygments_lexer": "ipython3",
   "version": "3.9.13"
  }
 },
 "nbformat": 4,
 "nbformat_minor": 4
}
