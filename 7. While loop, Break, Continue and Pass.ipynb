{
 "cells": [
  {
   "cell_type": "code",
   "execution_count": 1,
   "metadata": {},
   "outputs": [
    {
     "name": "stdout",
     "output_type": "stream",
     "text": [
      "0\n",
      "1\n"
     ]
    }
   ],
   "source": [
    "# while condition:\n",
    "#     Body of loop\n",
    "\n",
    "# As long as the condition remains True, the loop will be executed\n",
    "# Once the condition becomes False, it will exit the loop\n",
    "\n",
    "a = 0\n",
    "while a < 2:\n",
    "    print(a)\n",
    "    a = a + 1\n",
    "    #a=0\n",
    "    #a<2-0<2-true\n",
    "    #print a\n",
    "    #a=0+1\n",
    "    "
   ]
  },
  {
   "cell_type": "code",
   "execution_count": 2,
   "metadata": {},
   "outputs": [
    {
     "name": "stdout",
     "output_type": "stream",
     "text": [
      "0\n",
      "1\n",
      "While loop execution is stopped as the condition became false\n"
     ]
    }
   ],
   "source": [
    "a = 0\n",
    "while a < 2:\n",
    "    print(a)\n",
    "    a = a + 1\n",
    "else: # Optional\n",
    "    print('While loop execution is stopped as the condition became false')"
   ]
  },
  {
   "cell_type": "code",
   "execution_count": 3,
   "metadata": {},
   "outputs": [
    {
     "name": "stdout",
     "output_type": "stream",
     "text": [
      "1\n",
      "2\n",
      "4\n",
      "8\n",
      "16\n",
      "While loop execution is stopped as the condition became false\n"
     ]
    }
   ],
   "source": [
    "a = 1\n",
    "while a < 20:\n",
    "    print(a)\n",
    "    a = a * 2\n",
    "else: # Optional\n",
    "    print('While loop execution is stopped as the condition became false')\n",
    "#1<20-->true\n",
    "#print a\n",
    "#a=1*2=2\n",
    "#a=2\n",
    "#2<20-->true\n",
    "#print 2\n",
    "#a=2*2=4\n",
    "#a=4\n",
    "#4<20-->true\n",
    "#print 4\n",
    "#a=4*2=8\n",
    "#a=8\n",
    "#8<20-->true\n",
    "#print 8\n",
    "#a=8*2=16\n",
    "#a=16\n",
    "#16<20-->true\n",
    "#print 16\n",
    "#a=16*2=32\n",
    "#a=32\n",
    "#32<20-->false\n",
    "#exit\n",
    "#print While loop execution is stopped as the condition became false"
   ]
  },
  {
   "cell_type": "code",
   "execution_count": 4,
   "metadata": {},
   "outputs": [
    {
     "name": "stdout",
     "output_type": "stream",
     "text": [
      "0\n",
      "Continuing...\n",
      "1\n",
      "A is 2\n"
     ]
    }
   ],
   "source": [
    "a = 0\n",
    "while a < 2:\n",
    "    print(a)\n",
    "    a = a + 1\n",
    "    if a == 2:\n",
    "        print('A is 2')\n",
    "        break # Once it encounter the break statement it will exit the loop\n",
    "              # Execution will be terminated\n",
    "    else:\n",
    "        print('Continuing...')"
   ]
  },
  {
   "cell_type": "code",
   "execution_count": 5,
   "metadata": {},
   "outputs": [
    {
     "name": "stdout",
     "output_type": "stream",
     "text": [
      "0\n"
     ]
    }
   ],
   "source": [
    "for i in range(10): # [0,1,2,3,4,5,6,7,8,9]\n",
    "    print(i * i) # 0 * 0\n",
    "    break # Exit the loop"
   ]
  },
  {
   "cell_type": "code",
   "execution_count": 9,
   "metadata": {},
   "outputs": [],
   "source": [
    "for i in range(10): # [0,1,2,3,4,5,6,7,8,9]\n",
    "    break\n",
    "    print(i * i)"
   ]
  },
  {
   "cell_type": "code",
   "execution_count": 8,
   "metadata": {},
   "outputs": [
    {
     "name": "stdout",
     "output_type": "stream",
     "text": [
      "0\n",
      "1\n",
      "4\n",
      "9\n",
      "16\n",
      "25\n",
      "I is 5\n"
     ]
    }
   ],
   "source": [
    "for i in range(10): # [0,1,2,3,4,5,6,7,8,9]\n",
    "    print(i * i)\n",
    "    if i == 5:\n",
    "        print('I is 5')\n",
    "        break"
   ]
  },
  {
   "cell_type": "code",
   "execution_count": 10,
   "metadata": {},
   "outputs": [
    {
     "name": "stdout",
     "output_type": "stream",
     "text": [
      "h\n",
      "current char e\n",
      "current char l\n",
      "current char l\n",
      "current char o\n"
     ]
    }
   ],
   "source": [
    "for i in 'hello':\n",
    "    if i == 'h': # h == h\n",
    "        print(i)\n",
    "        continue # Skips the current iteration and moves to the next iteration\n",
    "    print('current char', i)"
   ]
  },
  {
   "cell_type": "code",
   "execution_count": 11,
   "metadata": {},
   "outputs": [
    {
     "ename": "IndentationError",
     "evalue": "expected an indented block (3265231262.py, line 3)",
     "output_type": "error",
     "traceback": [
      "\u001b[1;36m  File \u001b[1;32m\"C:\\Users\\SYED RAHIM\\AppData\\Local\\Temp\\ipykernel_5292\\3265231262.py\"\u001b[1;36m, line \u001b[1;32m3\u001b[0m\n\u001b[1;33m    #     print('Even')\u001b[0m\n\u001b[1;37m                       ^\u001b[0m\n\u001b[1;31mIndentationError\u001b[0m\u001b[1;31m:\u001b[0m expected an indented block\n"
     ]
    }
   ],
   "source": [
    "a = 10\n",
    "if a % 2 == 0:\n",
    "#     print('Even')"
   ]
  },
  {
   "cell_type": "code",
   "execution_count": 12,
   "metadata": {},
   "outputs": [
    {
     "data": {
      "text/plain": [
       "42"
      ]
     },
     "execution_count": 12,
     "metadata": {},
     "output_type": "execute_result"
    }
   ],
   "source": [
    "count = 0\n",
    "for i in range(10):# [0,1,2,3,4,5,6,7,8,9]\n",
    "    if i < 3:\n",
    "        pass # Skipping statement, it does nothing at all\n",
    "    else:\n",
    "        count += i # count = count + i\n",
    "count"
   ]
  },
  {
   "cell_type": "code",
   "execution_count": null,
   "metadata": {
    "scrolled": true
   },
   "outputs": [],
   "source": [
    "# This goes into an infinite loop\n",
    "\n",
    "# while True:\n",
    "#     print('Yes')\n",
    "\n",
    "# a = 1\n",
    "# while a > 0:\n",
    "#     print(a)\n",
    "#     a = a + 1"
   ]
  }
 ],
 "metadata": {
  "kernelspec": {
   "display_name": "Python 3 (ipykernel)",
   "language": "python",
   "name": "python3"
  },
  "language_info": {
   "codemirror_mode": {
    "name": "ipython",
    "version": 3
   },
   "file_extension": ".py",
   "mimetype": "text/x-python",
   "name": "python",
   "nbconvert_exporter": "python",
   "pygments_lexer": "ipython3",
   "version": "3.9.13"
  }
 },
 "nbformat": 4,
 "nbformat_minor": 4
}
